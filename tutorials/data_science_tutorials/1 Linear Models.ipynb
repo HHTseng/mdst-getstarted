{
 "cells": [
  {
   "cell_type": "markdown",
   "metadata": {
    "collapsed": true
   },
   "source": [
    "<center><img src=\"http://mdst.eecs.umich.edu/images/mdst-logo-circle.png\" width=350></center>\n",
    "\n",
    "# Introduction to Linear Models\n",
    "\n",
    "Linear models are some of the simplest classification techniques.  Before we continue, let's recall the distinction between regression and classification.\n",
    "\n",
    "    Regression estimates a continuous output variable.\n",
    "    \n",
    "    Classification estimates a labelled output variable.\n",
    "    \n",
    "For many problems, either approach is valid, though frequently one will work better than the other.  Today we will briefly discuss several techniques for regression and classification for linear models.\n",
    "\n",
    "## Data Investigation and Preparation"
   ]
  },
  {
   "cell_type": "code",
   "execution_count": 1,
   "metadata": {
    "collapsed": true
   },
   "outputs": [],
   "source": [
    "# We begin by importing numpy and pandas, as usual.\n",
    "import numpy as np\n",
    "import pandas as pd\n",
    "import matplotlib.pyplot as plt\n",
    "%matplotlib inline"
   ]
  },
  {
   "cell_type": "markdown",
   "metadata": {},
   "source": [
    "Before we get too far, let's take a look at the data that we will be working with.  You can find the data <a href=\"https://inclass.kaggle.com/c/mdst-flint/data\">here</a>.  I recommend you create a working directory called \"flint\" and a subdirectory called \"data\" into which you can put the data.\n",
    "\n",
    "Once you have downloaded the data and moved it into place, we can take a look at it.  You can see a description for each column at the link where you got the data."
   ]
  },
  {
   "cell_type": "code",
   "execution_count": 2,
   "metadata": {
    "collapsed": false
   },
   "outputs": [
    {
     "data": {
      "text/html": [
       "<div>\n",
       "<table border=\"1\" class=\"dataframe\">\n",
       "  <thead>\n",
       "    <tr style=\"text-align: right;\">\n",
       "      <th></th>\n",
       "      <th>sample_id</th>\n",
       "      <th>Lead_(ppb)</th>\n",
       "      <th>parcel_id</th>\n",
       "      <th>Date_Submitted</th>\n",
       "      <th>google_add</th>\n",
       "      <th>Latitude</th>\n",
       "      <th>Longitude</th>\n",
       "      <th>Owner_Type</th>\n",
       "      <th>Land_Value</th>\n",
       "      <th>Land_Improvements_Value</th>\n",
       "      <th>...</th>\n",
       "      <th>Ward</th>\n",
       "      <th>PRECINCT</th>\n",
       "      <th>CENTRACT</th>\n",
       "      <th>CENBLOCK</th>\n",
       "      <th>SL_Type</th>\n",
       "      <th>SL_Type2</th>\n",
       "      <th>SL_Lead</th>\n",
       "      <th>Homestead</th>\n",
       "      <th>Homestead_Percent</th>\n",
       "      <th>HomeSEV</th>\n",
       "    </tr>\n",
       "  </thead>\n",
       "  <tbody>\n",
       "    <tr>\n",
       "      <th>0</th>\n",
       "      <td>sample_012585</td>\n",
       "      <td>0.0</td>\n",
       "      <td>parcel_000036</td>\n",
       "      <td>2015-09-25 11:07:30</td>\n",
       "      <td>1930 Colchester Rd, Flint, MI 48503, USA</td>\n",
       "      <td>42.994119</td>\n",
       "      <td>-83.723837</td>\n",
       "      <td>Private</td>\n",
       "      <td>20173</td>\n",
       "      <td>0</td>\n",
       "      <td>...</td>\n",
       "      <td>8</td>\n",
       "      <td>50</td>\n",
       "      <td>003600</td>\n",
       "      <td>6</td>\n",
       "      <td>1</td>\n",
       "      <td>0</td>\n",
       "      <td>0</td>\n",
       "      <td>Yes</td>\n",
       "      <td>100.0</td>\n",
       "      <td>35000</td>\n",
       "    </tr>\n",
       "    <tr>\n",
       "      <th>1</th>\n",
       "      <td>sample_006656</td>\n",
       "      <td>0.0</td>\n",
       "      <td>parcel_000036</td>\n",
       "      <td>2016-02-12 13:05:05</td>\n",
       "      <td>1930 Colchester Rd, Flint, MI 48503, USA</td>\n",
       "      <td>42.994119</td>\n",
       "      <td>-83.723837</td>\n",
       "      <td>Private</td>\n",
       "      <td>20173</td>\n",
       "      <td>0</td>\n",
       "      <td>...</td>\n",
       "      <td>8</td>\n",
       "      <td>50</td>\n",
       "      <td>003600</td>\n",
       "      <td>6</td>\n",
       "      <td>1</td>\n",
       "      <td>0</td>\n",
       "      <td>0</td>\n",
       "      <td>Yes</td>\n",
       "      <td>100.0</td>\n",
       "      <td>35000</td>\n",
       "    </tr>\n",
       "    <tr>\n",
       "      <th>2</th>\n",
       "      <td>sample_007366</td>\n",
       "      <td>0.0</td>\n",
       "      <td>parcel_004160</td>\n",
       "      <td>2015-09-30 13:06:52</td>\n",
       "      <td>605 Garland St, Flint, MI 48503, USA</td>\n",
       "      <td>43.020701</td>\n",
       "      <td>-83.696796</td>\n",
       "      <td>Private</td>\n",
       "      <td>15089</td>\n",
       "      <td>85227</td>\n",
       "      <td>...</td>\n",
       "      <td>5</td>\n",
       "      <td>32</td>\n",
       "      <td>002800</td>\n",
       "      <td>2</td>\n",
       "      <td>1</td>\n",
       "      <td>0</td>\n",
       "      <td>0</td>\n",
       "      <td>No</td>\n",
       "      <td>0.0</td>\n",
       "      <td>0</td>\n",
       "    </tr>\n",
       "    <tr>\n",
       "      <th>3</th>\n",
       "      <td>sample_014024</td>\n",
       "      <td>4.0</td>\n",
       "      <td>parcel_004160</td>\n",
       "      <td>2015-09-30 13:06:51</td>\n",
       "      <td>605 Garland St, Flint, MI 48503, USA</td>\n",
       "      <td>43.020701</td>\n",
       "      <td>-83.696796</td>\n",
       "      <td>Private</td>\n",
       "      <td>15089</td>\n",
       "      <td>85227</td>\n",
       "      <td>...</td>\n",
       "      <td>5</td>\n",
       "      <td>32</td>\n",
       "      <td>002800</td>\n",
       "      <td>2</td>\n",
       "      <td>1</td>\n",
       "      <td>0</td>\n",
       "      <td>0</td>\n",
       "      <td>No</td>\n",
       "      <td>0.0</td>\n",
       "      <td>0</td>\n",
       "    </tr>\n",
       "    <tr>\n",
       "      <th>4</th>\n",
       "      <td>sample_003639</td>\n",
       "      <td>0.0</td>\n",
       "      <td>parcel_010786</td>\n",
       "      <td>2015-09-30 13:07:02</td>\n",
       "      <td>4307 Ogema Ave, Flint, MI 48507, USA</td>\n",
       "      <td>42.984745</td>\n",
       "      <td>-83.660663</td>\n",
       "      <td>Private</td>\n",
       "      <td>7526</td>\n",
       "      <td>0</td>\n",
       "      <td>...</td>\n",
       "      <td>9</td>\n",
       "      <td>61</td>\n",
       "      <td>003500</td>\n",
       "      <td>3</td>\n",
       "      <td>1</td>\n",
       "      <td>0</td>\n",
       "      <td>0</td>\n",
       "      <td>Yes</td>\n",
       "      <td>100.0</td>\n",
       "      <td>0</td>\n",
       "    </tr>\n",
       "  </tbody>\n",
       "</table>\n",
       "<p>5 rows × 37 columns</p>\n",
       "</div>"
      ],
      "text/plain": [
       "       sample_id  Lead_(ppb)      parcel_id       Date_Submitted  \\\n",
       "0  sample_012585         0.0  parcel_000036  2015-09-25 11:07:30   \n",
       "1  sample_006656         0.0  parcel_000036  2016-02-12 13:05:05   \n",
       "2  sample_007366         0.0  parcel_004160  2015-09-30 13:06:52   \n",
       "3  sample_014024         4.0  parcel_004160  2015-09-30 13:06:51   \n",
       "4  sample_003639         0.0  parcel_010786  2015-09-30 13:07:02   \n",
       "\n",
       "                                 google_add   Latitude  Longitude Owner_Type  \\\n",
       "0  1930 Colchester Rd, Flint, MI 48503, USA  42.994119 -83.723837    Private   \n",
       "1  1930 Colchester Rd, Flint, MI 48503, USA  42.994119 -83.723837    Private   \n",
       "2      605 Garland St, Flint, MI 48503, USA  43.020701 -83.696796    Private   \n",
       "3      605 Garland St, Flint, MI 48503, USA  43.020701 -83.696796    Private   \n",
       "4      4307 Ogema Ave, Flint, MI 48507, USA  42.984745 -83.660663    Private   \n",
       "\n",
       "   Land_Value  Land_Improvements_Value   ...    Ward PRECINCT  CENTRACT  \\\n",
       "0       20173                        0   ...       8       50    003600   \n",
       "1       20173                        0   ...       8       50    003600   \n",
       "2       15089                    85227   ...       5       32    002800   \n",
       "3       15089                    85227   ...       5       32    002800   \n",
       "4        7526                        0   ...       9       61    003500   \n",
       "\n",
       "   CENBLOCK  SL_Type SL_Type2 SL_Lead Homestead  Homestead_Percent HomeSEV  \n",
       "0         6        1        0       0       Yes              100.0   35000  \n",
       "1         6        1        0       0       Yes              100.0   35000  \n",
       "2         2        1        0       0        No                0.0       0  \n",
       "3         2        1        0       0        No                0.0       0  \n",
       "4         3        1        0       0       Yes              100.0       0  \n",
       "\n",
       "[5 rows x 37 columns]"
      ]
     },
     "execution_count": 2,
     "metadata": {},
     "output_type": "execute_result"
    }
   ],
   "source": [
    "train_df = pd.read_csv('./data/flint_train.csv')\n",
    "test_df = pd.read_csv('./data/flint_test.csv')\n",
    "train_df.head()"
   ]
  },
  {
   "cell_type": "markdown",
   "metadata": {},
   "source": [
    "Each of the linear models we will be examining requires all of our data to be numeric.  Let's take a look at the columns in the data frame that we just loaded."
   ]
  },
  {
   "cell_type": "code",
   "execution_count": 3,
   "metadata": {
    "collapsed": false
   },
   "outputs": [
    {
     "data": {
      "text/plain": [
       "['sample_id',\n",
       " 'Lead_(ppb)',\n",
       " 'parcel_id',\n",
       " 'Date_Submitted',\n",
       " 'google_add',\n",
       " 'Latitude',\n",
       " 'Longitude',\n",
       " 'Owner_Type',\n",
       " 'Land_Value',\n",
       " 'Land_Improvements_Value',\n",
       " 'Residential_Building_Value',\n",
       " 'Residential_Building_Style',\n",
       " 'Commercial_Building_Value',\n",
       " 'Building_Storeys',\n",
       " 'Parcel_Acres',\n",
       " 'Rental',\n",
       " 'Use_Type',\n",
       " 'Prop_Class',\n",
       " 'Year_Built',\n",
       " 'USPS_Vacancy',\n",
       " 'Zoning',\n",
       " 'Future_Landuse',\n",
       " 'DRAFT_Zone',\n",
       " 'Housing_Condition_2012',\n",
       " 'Housing_Condition_2014',\n",
       " 'Commercial_Condition_2013',\n",
       " 'Hydrant_Type',\n",
       " 'Ward',\n",
       " 'PRECINCT',\n",
       " 'CENTRACT',\n",
       " 'CENBLOCK',\n",
       " 'SL_Type',\n",
       " 'SL_Type2',\n",
       " 'SL_Lead',\n",
       " 'Homestead',\n",
       " 'Homestead_Percent',\n",
       " 'HomeSEV']"
      ]
     },
     "execution_count": 3,
     "metadata": {},
     "output_type": "execute_result"
    }
   ],
   "source": [
    "train_df.columns.tolist()"
   ]
  },
  {
   "cell_type": "markdown",
   "metadata": {},
   "source": [
    "Some of these are already numbers. Some, however, are not but they seem like they should still be useful.  For example:"
   ]
  },
  {
   "cell_type": "code",
   "execution_count": 4,
   "metadata": {
    "collapsed": false
   },
   "outputs": [
    {
     "data": {
      "text/html": [
       "<div>\n",
       "<table border=\"1\" class=\"dataframe\">\n",
       "  <thead>\n",
       "    <tr style=\"text-align: right;\">\n",
       "      <th></th>\n",
       "      <th>Owner_Type</th>\n",
       "      <th>Use_Type</th>\n",
       "      <th>Hydrant_Type</th>\n",
       "    </tr>\n",
       "  </thead>\n",
       "  <tbody>\n",
       "    <tr>\n",
       "      <th>0</th>\n",
       "      <td>Private</td>\n",
       "      <td>Residential</td>\n",
       "      <td>Dar</td>\n",
       "    </tr>\n",
       "    <tr>\n",
       "      <th>1</th>\n",
       "      <td>Private</td>\n",
       "      <td>Residential</td>\n",
       "      <td>Dar</td>\n",
       "    </tr>\n",
       "    <tr>\n",
       "      <th>2</th>\n",
       "      <td>Private</td>\n",
       "      <td>Commercial</td>\n",
       "      <td>Mueller</td>\n",
       "    </tr>\n",
       "    <tr>\n",
       "      <th>3</th>\n",
       "      <td>Private</td>\n",
       "      <td>Commercial</td>\n",
       "      <td>Mueller</td>\n",
       "    </tr>\n",
       "    <tr>\n",
       "      <th>4</th>\n",
       "      <td>Private</td>\n",
       "      <td>Residential</td>\n",
       "      <td>Mueller</td>\n",
       "    </tr>\n",
       "  </tbody>\n",
       "</table>\n",
       "</div>"
      ],
      "text/plain": [
       "  Owner_Type     Use_Type Hydrant_Type\n",
       "0    Private  Residential          Dar\n",
       "1    Private  Residential          Dar\n",
       "2    Private   Commercial      Mueller\n",
       "3    Private   Commercial      Mueller\n",
       "4    Private  Residential      Mueller"
      ]
     },
     "execution_count": 4,
     "metadata": {},
     "output_type": "execute_result"
    }
   ],
   "source": [
    "train_df[['Owner_Type', 'Use_Type', 'Hydrant_Type']].head()"
   ]
  },
  {
   "cell_type": "markdown",
   "metadata": {},
   "source": [
    "How can we make use of these variables?  One way is to create dummy variables.  The best way to explain dummy variables is with an example.  Thankfully, pandas has a built-in command that handles it for us."
   ]
  },
  {
   "cell_type": "code",
   "execution_count": 5,
   "metadata": {
    "collapsed": false
   },
   "outputs": [
    {
     "data": {
      "text/html": [
       "<div>\n",
       "<table border=\"1\" class=\"dataframe\">\n",
       "  <thead>\n",
       "    <tr style=\"text-align: right;\">\n",
       "      <th></th>\n",
       "      <th>Owner_Type_Land Bank</th>\n",
       "      <th>Owner_Type_Private</th>\n",
       "      <th>Owner_Type_Public</th>\n",
       "      <th>Use_Type_Commercial</th>\n",
       "      <th>Use_Type_Industrial</th>\n",
       "      <th>Use_Type_Residential</th>\n",
       "      <th>Hydrant_Type_A.D.</th>\n",
       "      <th>Hydrant_Type_Dar</th>\n",
       "      <th>Hydrant_Type_Mueller</th>\n",
       "      <th>Hydrant_Type_Other</th>\n",
       "      <th>Hydrant_Type_T.C.</th>\n",
       "    </tr>\n",
       "  </thead>\n",
       "  <tbody>\n",
       "    <tr>\n",
       "      <th>0</th>\n",
       "      <td>0.0</td>\n",
       "      <td>1.0</td>\n",
       "      <td>0.0</td>\n",
       "      <td>0.0</td>\n",
       "      <td>0.0</td>\n",
       "      <td>1.0</td>\n",
       "      <td>0.0</td>\n",
       "      <td>1.0</td>\n",
       "      <td>0.0</td>\n",
       "      <td>0.0</td>\n",
       "      <td>0.0</td>\n",
       "    </tr>\n",
       "    <tr>\n",
       "      <th>1</th>\n",
       "      <td>0.0</td>\n",
       "      <td>1.0</td>\n",
       "      <td>0.0</td>\n",
       "      <td>0.0</td>\n",
       "      <td>0.0</td>\n",
       "      <td>1.0</td>\n",
       "      <td>0.0</td>\n",
       "      <td>1.0</td>\n",
       "      <td>0.0</td>\n",
       "      <td>0.0</td>\n",
       "      <td>0.0</td>\n",
       "    </tr>\n",
       "    <tr>\n",
       "      <th>2</th>\n",
       "      <td>0.0</td>\n",
       "      <td>1.0</td>\n",
       "      <td>0.0</td>\n",
       "      <td>1.0</td>\n",
       "      <td>0.0</td>\n",
       "      <td>0.0</td>\n",
       "      <td>0.0</td>\n",
       "      <td>0.0</td>\n",
       "      <td>1.0</td>\n",
       "      <td>0.0</td>\n",
       "      <td>0.0</td>\n",
       "    </tr>\n",
       "    <tr>\n",
       "      <th>3</th>\n",
       "      <td>0.0</td>\n",
       "      <td>1.0</td>\n",
       "      <td>0.0</td>\n",
       "      <td>1.0</td>\n",
       "      <td>0.0</td>\n",
       "      <td>0.0</td>\n",
       "      <td>0.0</td>\n",
       "      <td>0.0</td>\n",
       "      <td>1.0</td>\n",
       "      <td>0.0</td>\n",
       "      <td>0.0</td>\n",
       "    </tr>\n",
       "    <tr>\n",
       "      <th>4</th>\n",
       "      <td>0.0</td>\n",
       "      <td>1.0</td>\n",
       "      <td>0.0</td>\n",
       "      <td>0.0</td>\n",
       "      <td>0.0</td>\n",
       "      <td>1.0</td>\n",
       "      <td>0.0</td>\n",
       "      <td>0.0</td>\n",
       "      <td>1.0</td>\n",
       "      <td>0.0</td>\n",
       "      <td>0.0</td>\n",
       "    </tr>\n",
       "  </tbody>\n",
       "</table>\n",
       "</div>"
      ],
      "text/plain": [
       "   Owner_Type_Land Bank  Owner_Type_Private  Owner_Type_Public  \\\n",
       "0                   0.0                 1.0                0.0   \n",
       "1                   0.0                 1.0                0.0   \n",
       "2                   0.0                 1.0                0.0   \n",
       "3                   0.0                 1.0                0.0   \n",
       "4                   0.0                 1.0                0.0   \n",
       "\n",
       "   Use_Type_Commercial  Use_Type_Industrial  Use_Type_Residential  \\\n",
       "0                  0.0                  0.0                   1.0   \n",
       "1                  0.0                  0.0                   1.0   \n",
       "2                  1.0                  0.0                   0.0   \n",
       "3                  1.0                  0.0                   0.0   \n",
       "4                  0.0                  0.0                   1.0   \n",
       "\n",
       "   Hydrant_Type_A.D.  Hydrant_Type_Dar  Hydrant_Type_Mueller  \\\n",
       "0                0.0               1.0                   0.0   \n",
       "1                0.0               1.0                   0.0   \n",
       "2                0.0               0.0                   1.0   \n",
       "3                0.0               0.0                   1.0   \n",
       "4                0.0               0.0                   1.0   \n",
       "\n",
       "   Hydrant_Type_Other  Hydrant_Type_T.C.  \n",
       "0                 0.0                0.0  \n",
       "1                 0.0                0.0  \n",
       "2                 0.0                0.0  \n",
       "3                 0.0                0.0  \n",
       "4                 0.0                0.0  "
      ]
     },
     "execution_count": 5,
     "metadata": {},
     "output_type": "execute_result"
    }
   ],
   "source": [
    "pd.get_dummies(train_df[['Owner_Type', 'Use_Type', 'Hydrant_Type']]).head()"
   ]
  },
  {
   "cell_type": "markdown",
   "metadata": {},
   "source": [
    "This is also called \"one-hot encoding\" if you want to sound fancy.  In your own words below, describe what the get_dummies command is doing."
   ]
  },
  {
   "cell_type": "markdown",
   "metadata": {},
   "source": []
  },
  {
   "cell_type": "markdown",
   "metadata": {},
   "source": [
    "To save you time and boredom, we have identified the variables that should be dummies below and created a new data frame.  In the process we dropped columns that will not be useful."
   ]
  },
  {
   "cell_type": "code",
   "execution_count": 6,
   "metadata": {
    "collapsed": false
   },
   "outputs": [],
   "source": [
    "dummy_columns = ['Owner_Type', 'Residential_Building_Style', 'USPS_Vacancy', \n",
    "                 'Building_Storeys', 'Rental', 'Use_Type', 'Prop_Class', 'Zoning', 'Future_Landuse', 'DRAFT_Zone',\n",
    "                 'Housing_Condition_2012', 'Housing_Condition_2014','Hydrant_Type', 'Ward', 'PRECINCT', 'CENTRACT', \n",
    "                 'Commercial_Condition_2013','CENBLOCK', 'SL_Type', 'SL_Type2', 'SL_Lead', 'Homestead']\n",
    "\n",
    "drop_columns = ['sample_id', 'google_add', 'parcel_id', 'Date_Submitted']\n",
    "\n",
    "combined_df = train_df.append(test_df)\n",
    "\n",
    "combined_df = combined_df.drop(drop_columns, axis=1)\n",
    "combined_df = pd.get_dummies(combined_df, columns = dummy_columns)\n",
    "\n",
    "train_df = combined_df[:len(train_df)]\n",
    "test_df = combined_df[len(train_df):]\n",
    "\n",
    "# The combining of the dataframes created an empty column for lead in test_df.  We drop it here.\n",
    "test_df = test_df.drop('Lead_(ppb)', axis=1)\n",
    "\n",
    "#train_df = train_df.drop(drop_columns, axis=1)\n",
    "#train_df = pd.get_dummies(train_df, columns=dummy_columns)"
   ]
  },
  {
   "cell_type": "markdown",
   "metadata": {},
   "source": [
    "Now we create our train/test split for the classification problem."
   ]
  },
  {
   "cell_type": "code",
   "execution_count": 7,
   "metadata": {
    "collapsed": true
   },
   "outputs": [],
   "source": [
    "from sklearn.cross_validation import train_test_split\n",
    "\n",
    "Ydata_r = train_df['Lead_(ppb)']\n",
    "Ydata_c = train_df['Lead_(ppb)'] > 15\n",
    "Xdata = train_df.drop('Lead_(ppb)', axis=1)\n",
    "\n",
    "# Describe the difference between Ydata_r and Ydata_c\n",
    "#"
   ]
  },
  {
   "cell_type": "code",
   "execution_count": 8,
   "metadata": {
    "collapsed": true
   },
   "outputs": [],
   "source": [
    "# We'll be starting with a regression problem, so split on Ydata_r\n",
    "\n",
    "Xtrain, Xtest, Ytrain, Ytest = train_test_split(Xdata, Ydata_r)"
   ]
  },
  {
   "cell_type": "markdown",
   "metadata": {},
   "source": [
    "## Linear Regression\n",
    "\n",
    "Remember how we said that data prep is always most of the work?  Maybe you are starting to get a clearer picture of that.\n",
    "\n",
    "Sklearn has sevearl linear regression libraries coded up and ready to go for us.  We will using two different models, but you can find many more <a href=\"http://scikit-learn.org/stable/modules/linear_model.html\">here</a>."
   ]
  },
  {
   "cell_type": "code",
   "execution_count": 9,
   "metadata": {
    "collapsed": false
   },
   "outputs": [
    {
     "data": {
      "text/plain": [
       "Ridge(alpha=1.0, copy_X=True, fit_intercept=True, max_iter=None,\n",
       "   normalize=False, random_state=None, solver='auto', tol=0.001)"
      ]
     },
     "execution_count": 9,
     "metadata": {},
     "output_type": "execute_result"
    }
   ],
   "source": [
    "from sklearn.linear_model import LinearRegression, Ridge\n",
    "\n",
    "# Create linear regression and ridge regression models\n",
    "lr = LinearRegression()\n",
    "rg = Ridge()\n",
    "\n",
    "# Fit the models to the data\n",
    "\n",
    "lr.fit(Xtrain, Ytrain)\n",
    "rg.fit(Xtrain, Ytrain)"
   ]
  },
  {
   "cell_type": "code",
   "execution_count": 10,
   "metadata": {
    "collapsed": false
   },
   "outputs": [],
   "source": [
    "# Now we can predict using the trained models.\n",
    "\n",
    "yhat1 = lr.predict(Xtest)\n",
    "yhat2 = rg.predict(Xtest)"
   ]
  },
  {
   "cell_type": "code",
   "execution_count": null,
   "metadata": {
    "collapsed": false
   },
   "outputs": [],
   "source": []
  },
  {
   "cell_type": "code",
   "execution_count": 11,
   "metadata": {
    "collapsed": false
   },
   "outputs": [
    {
     "name": "stdout",
     "output_type": "stream",
     "text": [
      "19868.7548578 19803.3194453\n"
     ]
    }
   ],
   "source": [
    "# How well did we do?  One way to measure is to check the mean squared error.\n",
    "\n",
    "from sklearn.metrics import mean_squared_error as mse\n",
    "\n",
    "error1 = mse(Ytest, yhat1)\n",
    "error2 = mse(Ytest, yhat2)\n",
    "\n",
    "print(error1, error2)"
   ]
  },
  {
   "cell_type": "markdown",
   "metadata": {},
   "source": [
    "This is not very good, but it's something.  Let's try something else."
   ]
  },
  {
   "cell_type": "code",
   "execution_count": 12,
   "metadata": {
    "collapsed": false
   },
   "outputs": [
    {
     "data": {
      "text/html": [
       "<div>\n",
       "<table border=\"1\" class=\"dataframe\">\n",
       "  <thead>\n",
       "    <tr style=\"text-align: right;\">\n",
       "      <th></th>\n",
       "      <th>0</th>\n",
       "      <th>1</th>\n",
       "    </tr>\n",
       "  </thead>\n",
       "  <tbody>\n",
       "    <tr>\n",
       "      <th>0</th>\n",
       "      <td>1594</td>\n",
       "      <td>787</td>\n",
       "    </tr>\n",
       "    <tr>\n",
       "      <th>1</th>\n",
       "      <td>143</td>\n",
       "      <td>93</td>\n",
       "    </tr>\n",
       "  </tbody>\n",
       "</table>\n",
       "</div>"
      ],
      "text/plain": [
       "      0    1\n",
       "0  1594  787\n",
       "1   143   93"
      ]
     },
     "execution_count": 12,
     "metadata": {},
     "output_type": "execute_result"
    }
   ],
   "source": [
    "from sklearn.metrics import confusion_matrix as cm\n",
    "\n",
    "pd.DataFrame(cm(Ytest > 15, yhat1 > 15))"
   ]
  },
  {
   "cell_type": "code",
   "execution_count": 13,
   "metadata": {
    "collapsed": false
   },
   "outputs": [
    {
     "data": {
      "text/html": [
       "<div>\n",
       "<table border=\"1\" class=\"dataframe\">\n",
       "  <thead>\n",
       "    <tr style=\"text-align: right;\">\n",
       "      <th></th>\n",
       "      <th>0</th>\n",
       "      <th>1</th>\n",
       "    </tr>\n",
       "  </thead>\n",
       "  <tbody>\n",
       "    <tr>\n",
       "      <th>0</th>\n",
       "      <td>1587</td>\n",
       "      <td>794</td>\n",
       "    </tr>\n",
       "    <tr>\n",
       "      <th>1</th>\n",
       "      <td>143</td>\n",
       "      <td>93</td>\n",
       "    </tr>\n",
       "  </tbody>\n",
       "</table>\n",
       "</div>"
      ],
      "text/plain": [
       "      0    1\n",
       "0  1587  794\n",
       "1   143   93"
      ]
     },
     "execution_count": 13,
     "metadata": {},
     "output_type": "execute_result"
    }
   ],
   "source": [
    "pd.DataFrame(cm(Ytest > 15, yhat2 > 15))"
   ]
  },
  {
   "cell_type": "markdown",
   "metadata": {},
   "source": [
    "## Logistic Regression\n",
    "\n",
    "Logistic regression is a classification tool, not a regression tool.  It can also capture more complicated structure."
   ]
  },
  {
   "cell_type": "code",
   "execution_count": 14,
   "metadata": {
    "collapsed": true
   },
   "outputs": [],
   "source": [
    "from sklearn.linear_model import LogisticRegression\n",
    "\n",
    "# Create a new train_test_split\n",
    "Xtrain, Xtest, Ytrain, Ytest = train_test_split(Xdata, Ydata_c)\n",
    "\n",
    "lr = LogisticRegression()\n",
    "\n",
    "lr.fit(Xtrain, Ytrain)\n",
    "\n",
    "yhat = lr.predict_proba(Xtest)"
   ]
  },
  {
   "cell_type": "code",
   "execution_count": 15,
   "metadata": {
    "collapsed": false
   },
   "outputs": [
    {
     "name": "stdout",
     "output_type": "stream",
     "text": [
      "0.56034658709\n"
     ]
    }
   ],
   "source": [
    "from sklearn.metrics import roc_auc_score as roc\n",
    "from sklearn.metrics import roc_curve\n",
    "\n",
    "r = roc(Ytest, yhat[:,1])\n",
    "print(r)"
   ]
  },
  {
   "cell_type": "code",
   "execution_count": 16,
   "metadata": {
    "collapsed": false
   },
   "outputs": [
    {
     "data": {
      "image/png": "[encoded data removed]",
      "text/plain": [
       "<matplotlib.figure.Figure at 0x12564d8d0>"
      ]
     },
     "metadata": {},
     "output_type": "display_data"
    }
   ],
   "source": [
    "fig = plt.figure()\n",
    "fig.set_size_inches(8,8)\n",
    "\n",
    "fpr, tpr, _ = roc_curve(Ytest, yhat[:,1])\n",
    "plt.plot(fpr, tpr, label= 'Random Forest (area = %0.5f)' % r)\n",
    "\n",
    "plt.plot([0, 1], [0, 1], 'k--')\n",
    "plt.xlim([0.0, 1.0])\n",
    "plt.ylim([0.0, 1.05])\n",
    "\n",
    "plt.xlabel('False Positive Rate')\n",
    "plt.ylabel('True Positive Rate')\n",
    "plt.title('ROC Curves for Service Line Classifiers')\n",
    "plt.legend(loc=\"lower right\")\n",
    "\n",
    "plt.show()"
   ]
  },
  {
   "cell_type": "code",
   "execution_count": 17,
   "metadata": {
    "collapsed": false
   },
   "outputs": [],
   "source": [
    "# Now let's make a submission together.\n",
    "# The logistic regression model was probably best, so we'll use that.\n",
    "\n",
    "yhat = lr.predict_proba(test_df)\n",
    "\n",
    "# The predict_proba method produces an N x 2 vector that has the probability of\n",
    "# label 0 in the first columna and the probability of label 1 in the second column.\n",
    "# The submission asks for the probability of 1, we we pull that out.\n",
    "\n",
    "pred = yhat[:,1]\n",
    "\n",
    "# Finally, the submission asks for the sample ids of the predictions.  We'll get\n",
    "# those now and then create the submission data frame.\n",
    "\n",
    "sample_ids = pd.read_csv('./data/flint_test.csv', usecols=['sample_id'])\n",
    "\n",
    "submission_df = pd.DataFrame({'sample_id':sample_ids['sample_id'], 'Lead_gt_15':pred})\n",
    "submission_df.to_csv('./data/submission.csv', index=False)"
   ]
  },
  {
   "cell_type": "code",
   "execution_count": null,
   "metadata": {
    "collapsed": false
   },
   "outputs": [],
   "source": []
  },
  {
   "cell_type": "code",
   "execution_count": null,
   "metadata": {
    "collapsed": false
   },
   "outputs": [],
   "source": []
  },
  {
   "cell_type": "code",
   "execution_count": null,
   "metadata": {
    "collapsed": true
   },
   "outputs": [],
   "source": []
  }
 ],
 "metadata": {
  "kernelspec": {
   "display_name": "Python [Root]",
   "language": "python",
   "name": "Python [Root]"
  },
  "language_info": {
   "codemirror_mode": {
    "name": "ipython",
    "version": 3
   },
   "file_extension": ".py",
   "mimetype": "text/x-python",
   "name": "python",
   "nbconvert_exporter": "python",
   "pygments_lexer": "ipython3",
   "version": "3.5.2"
  }
 },
 "nbformat": 4,
 "nbformat_minor": 0
}
