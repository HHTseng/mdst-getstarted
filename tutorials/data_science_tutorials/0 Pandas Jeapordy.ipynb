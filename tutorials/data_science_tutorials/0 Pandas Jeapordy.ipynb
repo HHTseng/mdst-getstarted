{
 "cells": [
  {
   "cell_type": "code",
   "execution_count": 1,
   "metadata": {
    "collapsed": true
   },
   "outputs": [],
   "source": [
    "import pandas as pd\n",
    "import numpy as np"
   ]
  },
  {
   "cell_type": "code",
   "execution_count": 2,
   "metadata": {
    "collapsed": true
   },
   "outputs": [],
   "source": [
    "flint_df = pd.read_csv('./data/flint_train.csv')"
   ]
  },
  {
   "cell_type": "code",
   "execution_count": 3,
   "metadata": {
    "collapsed": false
   },
   "outputs": [
    {
     "data": {
      "text/plain": [
       "['sample_id',\n",
       " 'Lead_(ppb)',\n",
       " 'parcel_id',\n",
       " 'Date_Submitted',\n",
       " 'google_add',\n",
       " 'Latitude',\n",
       " 'Longitude',\n",
       " 'Owner_Type',\n",
       " 'Land_Value',\n",
       " 'Land_Improvements_Value',\n",
       " 'Residential_Building_Value',\n",
       " 'Residential_Building_Style',\n",
       " 'Commercial_Building_Value',\n",
       " 'Building_Storeys',\n",
       " 'Parcel_Acres',\n",
       " 'Rental',\n",
       " 'Use_Type',\n",
       " 'Prop_Class',\n",
       " 'Year_Built',\n",
       " 'USPS_Vacancy',\n",
       " 'Zoning',\n",
       " 'Future_Landuse',\n",
       " 'DRAFT_Zone',\n",
       " 'Housing_Condition_2012',\n",
       " 'Housing_Condition_2014',\n",
       " 'Commercial_Condition_2013',\n",
       " 'Hydrant_Type',\n",
       " 'Ward',\n",
       " 'PRECINCT',\n",
       " 'CENTRACT',\n",
       " 'CENBLOCK',\n",
       " 'SL_Type',\n",
       " 'SL_Type2',\n",
       " 'SL_Lead',\n",
       " 'Homestead',\n",
       " 'Homestead_Percent',\n",
       " 'HomeSEV']"
      ]
     },
     "execution_count": 3,
     "metadata": {},
     "output_type": "execute_result"
    }
   ],
   "source": [
    "flint_df.columns.tolist()"
   ]
  },
  {
   "cell_type": "code",
   "execution_count": 9,
   "metadata": {
    "collapsed": false
   },
   "outputs": [
    {
     "data": {
      "text/plain": [
       "1954"
      ]
     },
     "execution_count": 9,
     "metadata": {},
     "output_type": "execute_result"
    }
   ],
   "source": [
    "# How many storeys does the house with the highest lead test result have?\n",
    "flint_df.ix[flint_df['Lead_(ppb)'].argmax()]['Year_Built']"
   ]
  },
  {
   "cell_type": "code",
   "execution_count": 29,
   "metadata": {
    "collapsed": false
   },
   "outputs": [
    {
     "data": {
      "text/plain": [
       "15815.723214285714"
      ]
     },
     "execution_count": 29,
     "metadata": {},
     "output_type": "execute_result"
    }
   ],
   "source": [
    "# What is the average Home SEV for a home with a dangerous (> 15 ppb) lead test?\n",
    "mask1 = flint_df['Lead_(ppb)'] > 15\n",
    "mask2 = flint_df['HomeSEV'] > 0\n",
    "flint_df[mask1 & mask2]['HomeSEV'].mean()"
   ]
  },
  {
   "cell_type": "code",
   "execution_count": 19,
   "metadata": {
    "collapsed": false
   },
   "outputs": [
    {
     "data": {
      "text/plain": [
       "12156.750628140704"
      ]
     },
     "execution_count": 19,
     "metadata": {},
     "output_type": "execute_result"
    }
   ],
   "source": [
    "# How about for homes that are safe? (< 3)\n",
    "mask1 = flint_df['Lead_(ppb)'] == 0\n",
    "mask2 = flint_df['Land_Value'] > 0\n",
    "flint_df[mask1 & mask2]['Land_Value'].mean()"
   ]
  },
  {
   "cell_type": "code",
   "execution_count": 20,
   "metadata": {
    "collapsed": false
   },
   "outputs": [
    {
     "data": {
      "text/plain": [
       "1922.8152173913043"
      ]
     },
     "execution_count": 20,
     "metadata": {},
     "output_type": "execute_result"
    }
   ],
   "source": [
    "# What is the average (nonzero) year_built for homes that have dangerous amounts of lead in their tests?\n",
    "mask1 = flint_df['Lead_(ppb)'] > 15\n",
    "mask2 = flint_df['Year_Built'] > 0\n",
    "flint_df[mask1 & mask2]['Year_Built'].mean()"
   ]
  },
  {
   "cell_type": "code",
   "execution_count": 22,
   "metadata": {
    "collapsed": false
   },
   "outputs": [
    {
     "data": {
      "text/plain": [
       "1937.7328368629276"
      ]
     },
     "execution_count": 22,
     "metadata": {},
     "output_type": "execute_result"
    }
   ],
   "source": [
    "# What is the average (nonzero) year_built for homes that have dangerous amounts of lead in their tests?\n",
    "mask1 = flint_df['Lead_(ppb)'] == 0\n",
    "mask2 = flint_df['Year_Built'] > 0\n",
    "flint_df[mask1 & mask2]['Year_Built'].mean()"
   ]
  },
  {
   "cell_type": "code",
   "execution_count": 3,
   "metadata": {
    "collapsed": false
   },
   "outputs": [
    {
     "data": {
      "text/plain": [
       "0    ONE STORY\n",
       "dtype: object"
      ]
     },
     "execution_count": 3,
     "metadata": {},
     "output_type": "execute_result"
    }
   ],
   "source": [
    "mask1 = flint_df['Lead_(ppb)'] > 15\n",
    "flint_df[mask1]['Residential_Building_Style'].mode()"
   ]
  },
  {
   "cell_type": "code",
   "execution_count": 7,
   "metadata": {
    "collapsed": false
   },
   "outputs": [
    {
     "data": {
      "text/plain": [
       "7241.279123951538"
      ]
     },
     "execution_count": 7,
     "metadata": {},
     "output_type": "execute_result"
    }
   ],
   "source": [
    "mask2 = np.logical_and(flint_df['Year_Built'] > 1950, flint_df['Year_Built'] < 1980)\n",
    "#mask3 = np.logical_and(flint_df['Land_Value'] > 0, mask2)\n",
    "flint_df[mask2]['Land_Value'].mean()"
   ]
  },
  {
   "cell_type": "code",
   "execution_count": null,
   "metadata": {
    "collapsed": true
   },
   "outputs": [],
   "source": []
  }
 ],
 "metadata": {
  "kernelspec": {
   "display_name": "Python [Root]",
   "language": "python",
   "name": "Python [Root]"
  },
  "language_info": {
   "codemirror_mode": {
    "name": "ipython",
    "version": 3
   },
   "file_extension": ".py",
   "mimetype": "text/x-python",
   "name": "python",
   "nbconvert_exporter": "python",
   "pygments_lexer": "ipython3",
   "version": "3.5.2"
  }
 },
 "nbformat": 4,
 "nbformat_minor": 0
}
