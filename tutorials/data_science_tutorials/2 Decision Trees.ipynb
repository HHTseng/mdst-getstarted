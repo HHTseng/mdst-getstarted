{
 "cells": [
  {
   "cell_type": "markdown",
   "metadata": {},
   "source": [
    "<center><img src=\"http://mdst.eecs.umich.edu/images/mdst-logo-circle.png\" width=350></center>\n",
    "\n",
    "# Introduction to Decision Trees\n",
    "\n",
    "Decision trees make excellent classifiers.  They are able to capture more complicated structure than linear models and a trained decision tree has an easy interpretation.\n",
    "\n",
    "A decision tree makes predictions by partitioning the input space, or the space that our data lives in, into regions and then assigning a label to each region.\n",
    "\n",
    "How does the decision tree decide where to split?  And how does it know which dimension to split on first?  These decisions will be determined by the mathematical formulation of the model, and we will omit them here.  If you are interested in learning more, see <a href=\"https://en.wikipedia.org/wiki/Decision_tree_learning\">this wikipedia article</a>.  To specifically learn about how decision trees split the input space into regions, read the section titled \"Metrics.\"\n",
    "\n",
    "That said, let's take a look at using these things."
   ]
  },
  {
   "cell_type": "code",
   "execution_count": 13,
   "metadata": {
    "collapsed": true
   },
   "outputs": [],
   "source": [
    "# We begin by importing numpy and pandas, as usual.\n",
    "%matplotlib inline\n",
    "import numpy as np\n",
    "import pandas as pd\n",
    "import matplotlib.pyplot as plt\n",
    "\n",
    "# We'll be evaluating our models as well.\n",
    "from sklearn.metrics import roc_auc_score as roc\n",
    "from sklearn.metrics import roc_curve"
   ]
  },
  {
   "cell_type": "code",
   "execution_count": 14,
   "metadata": {
    "collapsed": false
   },
   "outputs": [
    {
     "data": {
      "text/html": [
       "<div>\n",
       "<table border=\"1\" class=\"dataframe\">\n",
       "  <thead>\n",
       "    <tr style=\"text-align: right;\">\n",
       "      <th></th>\n",
       "      <th>sample_id</th>\n",
       "      <th>Lead_(ppb)</th>\n",
       "      <th>parcel_id</th>\n",
       "      <th>Date_Submitted</th>\n",
       "      <th>google_add</th>\n",
       "      <th>Latitude</th>\n",
       "      <th>Longitude</th>\n",
       "      <th>Owner_Type</th>\n",
       "      <th>Land_Value</th>\n",
       "      <th>Land_Improvements_Value</th>\n",
       "      <th>...</th>\n",
       "      <th>Ward</th>\n",
       "      <th>PRECINCT</th>\n",
       "      <th>CENTRACT</th>\n",
       "      <th>CENBLOCK</th>\n",
       "      <th>SL_Type</th>\n",
       "      <th>SL_Type2</th>\n",
       "      <th>SL_Lead</th>\n",
       "      <th>Homestead</th>\n",
       "      <th>Homestead_Percent</th>\n",
       "      <th>HomeSEV</th>\n",
       "    </tr>\n",
       "  </thead>\n",
       "  <tbody>\n",
       "    <tr>\n",
       "      <th>0</th>\n",
       "      <td>sample_012585</td>\n",
       "      <td>0.0</td>\n",
       "      <td>parcel_000036</td>\n",
       "      <td>2015-09-25 11:07:30</td>\n",
       "      <td>1930 Colchester Rd, Flint, MI 48503, USA</td>\n",
       "      <td>42.994119</td>\n",
       "      <td>-83.723837</td>\n",
       "      <td>Private</td>\n",
       "      <td>20173</td>\n",
       "      <td>0</td>\n",
       "      <td>...</td>\n",
       "      <td>8</td>\n",
       "      <td>50</td>\n",
       "      <td>003600</td>\n",
       "      <td>6</td>\n",
       "      <td>1</td>\n",
       "      <td>0</td>\n",
       "      <td>0</td>\n",
       "      <td>Yes</td>\n",
       "      <td>100.0</td>\n",
       "      <td>35000</td>\n",
       "    </tr>\n",
       "    <tr>\n",
       "      <th>1</th>\n",
       "      <td>sample_006656</td>\n",
       "      <td>0.0</td>\n",
       "      <td>parcel_000036</td>\n",
       "      <td>2016-02-12 13:05:05</td>\n",
       "      <td>1930 Colchester Rd, Flint, MI 48503, USA</td>\n",
       "      <td>42.994119</td>\n",
       "      <td>-83.723837</td>\n",
       "      <td>Private</td>\n",
       "      <td>20173</td>\n",
       "      <td>0</td>\n",
       "      <td>...</td>\n",
       "      <td>8</td>\n",
       "      <td>50</td>\n",
       "      <td>003600</td>\n",
       "      <td>6</td>\n",
       "      <td>1</td>\n",
       "      <td>0</td>\n",
       "      <td>0</td>\n",
       "      <td>Yes</td>\n",
       "      <td>100.0</td>\n",
       "      <td>35000</td>\n",
       "    </tr>\n",
       "    <tr>\n",
       "      <th>2</th>\n",
       "      <td>sample_007366</td>\n",
       "      <td>0.0</td>\n",
       "      <td>parcel_004160</td>\n",
       "      <td>2015-09-30 13:06:52</td>\n",
       "      <td>605 Garland St, Flint, MI 48503, USA</td>\n",
       "      <td>43.020701</td>\n",
       "      <td>-83.696796</td>\n",
       "      <td>Private</td>\n",
       "      <td>15089</td>\n",
       "      <td>85227</td>\n",
       "      <td>...</td>\n",
       "      <td>5</td>\n",
       "      <td>32</td>\n",
       "      <td>002800</td>\n",
       "      <td>2</td>\n",
       "      <td>1</td>\n",
       "      <td>0</td>\n",
       "      <td>0</td>\n",
       "      <td>No</td>\n",
       "      <td>0.0</td>\n",
       "      <td>0</td>\n",
       "    </tr>\n",
       "    <tr>\n",
       "      <th>3</th>\n",
       "      <td>sample_014024</td>\n",
       "      <td>4.0</td>\n",
       "      <td>parcel_004160</td>\n",
       "      <td>2015-09-30 13:06:51</td>\n",
       "      <td>605 Garland St, Flint, MI 48503, USA</td>\n",
       "      <td>43.020701</td>\n",
       "      <td>-83.696796</td>\n",
       "      <td>Private</td>\n",
       "      <td>15089</td>\n",
       "      <td>85227</td>\n",
       "      <td>...</td>\n",
       "      <td>5</td>\n",
       "      <td>32</td>\n",
       "      <td>002800</td>\n",
       "      <td>2</td>\n",
       "      <td>1</td>\n",
       "      <td>0</td>\n",
       "      <td>0</td>\n",
       "      <td>No</td>\n",
       "      <td>0.0</td>\n",
       "      <td>0</td>\n",
       "    </tr>\n",
       "    <tr>\n",
       "      <th>4</th>\n",
       "      <td>sample_003639</td>\n",
       "      <td>0.0</td>\n",
       "      <td>parcel_010786</td>\n",
       "      <td>2015-09-30 13:07:02</td>\n",
       "      <td>4307 Ogema Ave, Flint, MI 48507, USA</td>\n",
       "      <td>42.984745</td>\n",
       "      <td>-83.660663</td>\n",
       "      <td>Private</td>\n",
       "      <td>7526</td>\n",
       "      <td>0</td>\n",
       "      <td>...</td>\n",
       "      <td>9</td>\n",
       "      <td>61</td>\n",
       "      <td>003500</td>\n",
       "      <td>3</td>\n",
       "      <td>1</td>\n",
       "      <td>0</td>\n",
       "      <td>0</td>\n",
       "      <td>Yes</td>\n",
       "      <td>100.0</td>\n",
       "      <td>0</td>\n",
       "    </tr>\n",
       "  </tbody>\n",
       "</table>\n",
       "<p>5 rows × 37 columns</p>\n",
       "</div>"
      ],
      "text/plain": [
       "       sample_id  Lead_(ppb)      parcel_id       Date_Submitted  \\\n",
       "0  sample_012585         0.0  parcel_000036  2015-09-25 11:07:30   \n",
       "1  sample_006656         0.0  parcel_000036  2016-02-12 13:05:05   \n",
       "2  sample_007366         0.0  parcel_004160  2015-09-30 13:06:52   \n",
       "3  sample_014024         4.0  parcel_004160  2015-09-30 13:06:51   \n",
       "4  sample_003639         0.0  parcel_010786  2015-09-30 13:07:02   \n",
       "\n",
       "                                 google_add   Latitude  Longitude Owner_Type  \\\n",
       "0  1930 Colchester Rd, Flint, MI 48503, USA  42.994119 -83.723837    Private   \n",
       "1  1930 Colchester Rd, Flint, MI 48503, USA  42.994119 -83.723837    Private   \n",
       "2      605 Garland St, Flint, MI 48503, USA  43.020701 -83.696796    Private   \n",
       "3      605 Garland St, Flint, MI 48503, USA  43.020701 -83.696796    Private   \n",
       "4      4307 Ogema Ave, Flint, MI 48507, USA  42.984745 -83.660663    Private   \n",
       "\n",
       "   Land_Value  Land_Improvements_Value   ...    Ward PRECINCT  CENTRACT  \\\n",
       "0       20173                        0   ...       8       50    003600   \n",
       "1       20173                        0   ...       8       50    003600   \n",
       "2       15089                    85227   ...       5       32    002800   \n",
       "3       15089                    85227   ...       5       32    002800   \n",
       "4        7526                        0   ...       9       61    003500   \n",
       "\n",
       "   CENBLOCK  SL_Type SL_Type2 SL_Lead Homestead  Homestead_Percent HomeSEV  \n",
       "0         6        1        0       0       Yes              100.0   35000  \n",
       "1         6        1        0       0       Yes              100.0   35000  \n",
       "2         2        1        0       0        No                0.0       0  \n",
       "3         2        1        0       0        No                0.0       0  \n",
       "4         3        1        0       0       Yes              100.0       0  \n",
       "\n",
       "[5 rows x 37 columns]"
      ]
     },
     "execution_count": 14,
     "metadata": {},
     "output_type": "execute_result"
    }
   ],
   "source": [
    "train_df = pd.read_csv('./data/flint_train.csv')\n",
    "test_df = pd.read_csv('./data/flint_test.csv')\n",
    "train_df.head()"
   ]
  },
  {
   "cell_type": "markdown",
   "metadata": {},
   "source": [
    "Last time we had some trouble when our training sets and test sets didn't quite \"line up.\"  In the below cell we prevent any problems by combining all of our data together before transforming it using get_dummies."
   ]
  },
  {
   "cell_type": "code",
   "execution_count": 15,
   "metadata": {
    "collapsed": true
   },
   "outputs": [],
   "source": [
    "dummy_columns = ['Owner_Type', 'Residential_Building_Style', 'USPS_Vacancy', \n",
    "                 'Building_Storeys', 'Rental', 'Use_Type', 'Prop_Class', 'Zoning', 'Future_Landuse', 'DRAFT_Zone',\n",
    "                 'Housing_Condition_2012', 'Housing_Condition_2014','Hydrant_Type', 'Ward', 'PRECINCT', 'CENTRACT', \n",
    "                 'Commercial_Condition_2013','CENBLOCK', 'SL_Type', 'SL_Type2', 'SL_Lead', 'Homestead']\n",
    "\n",
    "drop_columns = ['sample_id', 'google_add', 'parcel_id', 'Date_Submitted']\n",
    "\n",
    "combined_df = train_df.append(test_df)\n",
    "\n",
    "combined_df = combined_df.drop(drop_columns, axis=1)\n",
    "combined_df = pd.get_dummies(combined_df, columns = dummy_columns)\n",
    "\n",
    "train_df = combined_df[:len(train_df)]\n",
    "test_df = combined_df[len(train_df):]\n",
    "\n",
    "# The combining of the dataframes created an empty column for lead in test_df.  We drop it here.\n",
    "test_df = test_df.drop('Lead_(ppb)', axis=1)\n",
    "\n",
    "#train_df = train_df.drop(drop_columns, axis=1)\n",
    "#train_df = pd.get_dummies(train_df, columns=dummy_columns)"
   ]
  },
  {
   "cell_type": "markdown",
   "metadata": {},
   "source": [
    "What follows should be starting to look like old news if you have been coming to the tutorials.  Split the training data into a training set and a test set.  We will use these sets to experiment and see which models are better."
   ]
  },
  {
   "cell_type": "code",
   "execution_count": 27,
   "metadata": {
    "collapsed": true
   },
   "outputs": [],
   "source": [
    "from sklearn.cross_validation import train_test_split\n",
    "\n",
    "Ydata_r = train_df['Lead_(ppb)']\n",
    "Ydata_c = train_df['Lead_(ppb)'] > 15\n",
    "Xdata = train_df.drop('Lead_(ppb)', axis=1)\n",
    "\n",
    "# We'll be starting with a regression problem, so split on Ydata_r\n",
    "\n",
    "Xtrain, Xtest, Ytrain, Ytest = train_test_split(Xdata, Ydata_c)"
   ]
  },
  {
   "cell_type": "markdown",
   "metadata": {},
   "source": [
    "There are several different classifiers in sklearn that depend on decision trees.  We will start with the simplest one, a single tree classifier.  These become the building blocks of more complicated models."
   ]
  },
  {
   "cell_type": "code",
   "execution_count": 20,
   "metadata": {
    "collapsed": true
   },
   "outputs": [],
   "source": [
    "from sklearn.tree import DecisionTreeClassifier\n",
    "\n",
    "dt = DecisionTreeClassifier()\n",
    "dt.fit(Xtrain, Ytrain)\n",
    "yhat1 = dt.predict_proba(Xtest)"
   ]
  },
  {
   "cell_type": "code",
   "execution_count": 21,
   "metadata": {
    "collapsed": false
   },
   "outputs": [
    {
     "data": {
      "image/png": "[encoded data removed]",
      "text/plain": [
       "<matplotlib.figure.Figure at 0x119c81438>"
      ]
     },
     "metadata": {},
     "output_type": "display_data"
    }
   ],
   "source": [
    "fig = plt.figure()\n",
    "fig.set_size_inches(8,8)\n",
    "\n",
    "fpr, tpr, _ = roc_curve(Ytest, yhat1[:,1])\n",
    "plt.plot(fpr, tpr, label= 'Decision Tree (area = %0.5f)' % roc(Ytest, yhat1[:,1]))\n",
    "\n",
    "plt.plot([0, 1], [0, 1], 'k--')\n",
    "plt.xlim([0.0, 1.0])\n",
    "plt.ylim([0.0, 1.05])\n",
    "\n",
    "plt.xlabel('False Positive Rate')\n",
    "plt.ylabel('True Positive Rate')\n",
    "plt.title('ROC Curves for Service Line Classifiers')\n",
    "plt.legend(loc=\"lower right\")\n",
    "\n",
    "plt.show()"
   ]
  },
  {
   "cell_type": "markdown",
   "metadata": {},
   "source": [
    "Random forest classifiers are excellent.  They are cheap to run, they are parallelizable, and the produce very good results.  They are a good go-to first classifier when you get a new data set.\n",
    "\n",
    "Random forests are collections of decision trees.  Each tree learns on a different subset of the columns in the data space.  Once all the trees are learned, the model combines the predictions into a better classifer.  How????"
   ]
  },
  {
   "cell_type": "markdown",
   "metadata": {},
   "source": [
    "This will help you get a little bit of intuition.  Suppose that we had 4 models that were independent of each other.  The models make a correct prediction with the following probabilities:\n",
    "\n",
    "<pre>\n",
    "\n",
    "|       | Probability Correct | Probability Incorrect |\n",
    "|-------|---------------------|-----------------------|\n",
    "|Model 1|       0.70          |         0.30          |\n",
    "|Model 2|       0.65          |         0.35          |\n",
    "|Model 3|       0.60          |         0.40          |\n",
    "|Model 4|       0.55          |         0.45          |\n",
    "|-------|---------------------|-----------------------|\n",
    "\n",
    "</pre>\n",
    "\n",
    "What is the probability that Model 1 makes an incorrect prediction while model 2, 3 and 4 make a correct prediction?"
   ]
  },
  {
   "cell_type": "code",
   "execution_count": 22,
   "metadata": {
    "collapsed": false
   },
   "outputs": [
    {
     "data": {
      "text/plain": [
       "(0.058499999999999996, 0.04409999999999999)"
      ]
     },
     "execution_count": 22,
     "metadata": {},
     "output_type": "execute_result"
    }
   ],
   "source": [
    "0.3*0.65*0.6*0.5, 0.7*0.35*0.4*0.45"
   ]
  },
  {
   "cell_type": "code",
   "execution_count": 30,
   "metadata": {
    "collapsed": true
   },
   "outputs": [],
   "source": [
    "from sklearn.ensemble import RandomForestClassifier\n",
    "\n",
    "rf = RandomForestClassifier(n_estimators=1024, n_jobs=-1)\n",
    "rf.fit(Xtrain, Ytrain)\n",
    "yhat2 = rf.predict_proba(Xtest)"
   ]
  },
  {
   "cell_type": "code",
   "execution_count": 31,
   "metadata": {
    "collapsed": false
   },
   "outputs": [
    {
     "data": {
      "image/png": "[encoded data removed]",
      "text/plain": [
       "<matplotlib.figure.Figure at 0x11b847e48>"
      ]
     },
     "metadata": {},
     "output_type": "display_data"
    }
   ],
   "source": [
    "fig = plt.figure()\n",
    "fig.set_size_inches(8,8)\n",
    "\n",
    "fpr, tpr, _ = roc_curve(Ytest, yhat2[:,1])\n",
    "plt.plot(fpr, tpr, label= 'Random Forest (area = %0.5f)' % roc(Ytest, yhat2[:,1]))\n",
    "\n",
    "plt.plot([0, 1], [0, 1], 'k--')\n",
    "plt.xlim([0.0, 1.0])\n",
    "plt.ylim([0.0, 1.05])\n",
    "\n",
    "plt.xlabel('False Positive Rate')\n",
    "plt.ylabel('True Positive Rate')\n",
    "plt.title('ROC Curves for Service Line Classifiers')\n",
    "plt.legend(loc=\"lower right\")\n",
    "\n",
    "plt.show()"
   ]
  },
  {
   "cell_type": "markdown",
   "metadata": {},
   "source": [
    "ExtraTreesClassifier is like a random forest, only EXTRA RANDOM!  This model is called an extremely randomized trees model.  This model acts like a random forest, except instead of training the individual decision trees the usual way by  trying to split the input space optimally it splits the input space randomly.  Hence \"Extremely Random\""
   ]
  },
  {
   "cell_type": "code",
   "execution_count": 34,
   "metadata": {
    "collapsed": true
   },
   "outputs": [],
   "source": [
    "from sklearn.ensemble import ExtraTreesClassifier\n",
    "\n",
    "et = ExtraTreesClassifier(n_estimators=4096, n_jobs=-1)\n",
    "et.fit(Xtrain, Ytrain)\n",
    "yhat3 = et.predict_proba(Xtest)"
   ]
  },
  {
   "cell_type": "code",
   "execution_count": 35,
   "metadata": {
    "collapsed": false
   },
   "outputs": [
    {
     "data": {
      "image/png": "[encoded data removed]",
      "text/plain": [
       "<matplotlib.figure.Figure at 0x119217358>"
      ]
     },
     "metadata": {},
     "output_type": "display_data"
    }
   ],
   "source": [
    "fig = plt.figure()\n",
    "fig.set_size_inches(8,8)\n",
    "\n",
    "fpr, tpr, _ = roc_curve(Ytest, yhat3[:,1])\n",
    "plt.plot(fpr, tpr, label= 'Random Forest (area = %0.5f)' % roc(Ytest, yhat3[:,1]))\n",
    "\n",
    "plt.plot([0, 1], [0, 1], 'k--')\n",
    "plt.xlim([0.0, 1.0])\n",
    "plt.ylim([0.0, 1.05])\n",
    "\n",
    "plt.xlabel('False Positive Rate')\n",
    "plt.ylabel('True Positive Rate')\n",
    "plt.title('ROC Curves for Service Line Classifiers')\n",
    "plt.legend(loc=\"lower right\")\n",
    "\n",
    "plt.show()"
   ]
  },
  {
   "cell_type": "code",
   "execution_count": 38,
   "metadata": {
    "collapsed": true
   },
   "outputs": [],
   "source": [
    "# Now let's make a submission together.\n",
    "# The logistic regression model was probably best, so we'll use that.\n",
    "\n",
    "rf = RandomForestClassifier(n_estimators=1024, n_jobs=-1)\n",
    "rf.fit(Xdata, Ydata_c)\n",
    "#yhat2 = rf.predict_proba(Xtest)\n",
    "\n",
    "yhat = rf.predict_proba(test_df)\n",
    "\n",
    "# The predict_proba method produces an N x 2 vector that has the probability of\n",
    "# label 0 in the first columna and the probability of label 1 in the second column.\n",
    "# The submission asks for the probability of 1, we we pull that out.\n",
    "\n",
    "pred = yhat[:,1]\n",
    "\n",
    "# Finally, the submission asks for the sample ids of the predictions.  We'll get\n",
    "# those now and then create the submission data frame.\n",
    "\n",
    "sample_ids = pd.read_csv('./data/flint_test.csv', usecols=['sample_id'])\n",
    "\n",
    "submission_df = pd.DataFrame({'sample_id':sample_ids['sample_id'], 'Lead_gt_15':pred})\n",
    "submission_df.to_csv('./data/submission.csv', index=False)"
   ]
  },
  {
   "cell_type": "code",
   "execution_count": null,
   "metadata": {
    "collapsed": true
   },
   "outputs": [],
   "source": []
  }
 ],
 "metadata": {
  "anaconda-cloud": {},
  "kernelspec": {
   "display_name": "Python [Root]",
   "language": "python",
   "name": "Python [Root]"
  },
  "language_info": {
   "codemirror_mode": {
    "name": "ipython",
    "version": 3
   },
   "file_extension": ".py",
   "mimetype": "text/x-python",
   "name": "python",
   "nbconvert_exporter": "python",
   "pygments_lexer": "ipython3",
   "version": "3.5.2"
  }
 },
 "nbformat": 4,
 "nbformat_minor": 0
}
