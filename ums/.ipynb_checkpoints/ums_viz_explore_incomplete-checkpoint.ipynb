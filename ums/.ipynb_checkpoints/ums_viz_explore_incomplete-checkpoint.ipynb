{
 "cells": [
  {
   "cell_type": "code",
   "execution_count": 1,
   "metadata": {
    "collapsed": false
   },
   "outputs": [],
   "source": [
    "import pandas as pd\n",
    "import numpy as np\n",
    "import matplotlib.pyplot as plt\n",
    "import datetime\n",
    "%matplotlib inline\n",
    "\n",
    "# Read in the data, reading in a few columns as datetime objects\n",
    "tbl = pd.read_csv('data/ums_viz.csv', parse_dates = [1, 4, 12])"
   ]
  },
  {
   "cell_type": "code",
   "execution_count": 2,
   "metadata": {
    "collapsed": false
   },
   "outputs": [
    {
     "name": "stdout",
     "output_type": "stream",
     "text": [
      "   UMS_acct_no acct_created  cust_type             perf_name  \\\n",
      "0         1111   1979-08-06  Household   The Infernal Comedy   \n",
      "1         1111   1979-08-06  Household      Yuja Wang, piano   \n",
      "2         1111   1979-08-06  Household   London Philharmonic   \n",
      "3         1111   1979-08-06  Household      Hamburg Symphony   \n",
      "4         1111   1979-08-06  Household  Chicago Symphony Orc   \n",
      "\n",
      "              perf_dt  tck_amt  num_seats            venue    price_type  \\\n",
      "0 2011-10-01 20:00:00      112          2  Hill Auditorium  Choral Union   \n",
      "1 2011-10-09 16:00:00       80          2  Hill Auditorium  Choral Union   \n",
      "2 2011-12-06 19:30:00      112          2  Hill Auditorium  Choral Union   \n",
      "3 2012-01-29 16:00:00       92          2  Hill Auditorium  Choral Union   \n",
      "4 2012-03-09 20:00:00      140          2  Hill Auditorium  Choral Union   \n",
      "\n",
      "  price_type_group  mode_of_sale sales_channel   order_dt postal_code  \n",
      "0      Subs Prices  Subscription           Fax 2011-05-31       48103  \n",
      "1      Subs Prices  Subscription           Fax 2011-05-31       48103  \n",
      "2      Subs Prices  Subscription           Fax 2011-05-31       48103  \n",
      "3      Subs Prices  Subscription           Fax 2011-05-31       48103  \n",
      "4      Subs Prices  Subscription           Fax 2011-05-31       48103  \n"
     ]
    }
   ],
   "source": [
    "# Each row corresponds to a single transaction\n",
    "print tbl.head()"
   ]
  },
  {
   "cell_type": "code",
   "execution_count": 3,
   "metadata": {
    "collapsed": false,
    "scrolled": true
   },
   "outputs": [
    {
     "name": "stdout",
     "output_type": "stream",
     "text": [
      "Columns:\n",
      "\t     UMS_acct_no : int64\n",
      "\t    acct_created : datetime64[ns]\n",
      "\t       cust_type : object\n",
      "\t       perf_name : object\n",
      "\t         perf_dt : datetime64[ns]\n",
      "\t         tck_amt : float64\n",
      "\t       num_seats : int64\n",
      "\t           venue : object\n",
      "\t      price_type : object\n",
      "\tprice_type_group : object\n",
      "\t    mode_of_sale : object\n",
      "\t   sales_channel : object\n",
      "\t        order_dt : datetime64[ns]\n",
      "\t     postal_code : object\n"
     ]
    }
   ],
   "source": [
    "# Take a look at the columns and their data types\n",
    "print \"Columns:\"\n",
    "for col in tbl.columns.tolist():\n",
    "    print \"\\t%16s\" % col + \" : \" + str(tbl[col].dtype)"
   ]
  },
  {
   "cell_type": "code",
   "execution_count": 4,
   "metadata": {
    "collapsed": false
   },
   "outputs": [
    {
     "name": "stdout",
     "output_type": "stream",
     "text": [
      "            acct_created  cust_type\n",
      "UMS_acct_no                        \n",
      "1111          1979-08-06  Household\n",
      "1115          1988-02-18  Household\n",
      "1122          1988-02-10  Household\n",
      "1130          1988-02-26  Household\n",
      "1131          1988-02-26  Household\n"
     ]
    }
   ],
   "source": [
    "# From this table we can derive an account-level table\n",
    "\n",
    "acc_tbl = tbl[['UMS_acct_no', 'acct_created', 'cust_type']]\n",
    "acc_tbl = acc_tbl.drop_duplicates()\n",
    "acc_tbl = acc_tbl.set_index('UMS_acct_no')\n",
    "\n",
    "print acc_tbl.head()"
   ]
  },
  {
   "cell_type": "code",
   "execution_count": null,
   "metadata": {
    "collapsed": false
   },
   "outputs": [],
   "source": [
    "# We can aggregate some purchase-level statistics for each account\n",
    "\n",
    "grpAcct = tbl.groupby('UMS_acct_no')\n",
    "\n",
    "acc_tbl['num_purchases']        = #count the number of transactions per customer\n",
    "acc_tbl['total_purchase_amt']   = #count the total cost of all transactions per customer\n",
    "acc_tbl['max_purchase_amt']     = #count the cost of the biggest transaction each customer made\n",
    "acc_tbl['avg_purchase_amt']     = #get the average cost of all transactions a customer made\n",
    "acc_tbl['total_num_seats']      = #get the total number of seats a customer purchased\n",
    "acc_tbl['avg_seat_amt']         = #get the average number of seats a customer purchased per transaction\n",
    "acc_tbl['most_recent_purchase'] = #get the date of the most recent purchase each customer made\n",
    "acc_tbl['first_purchase']       = #get the date of the first purchase each customer made\n",
    "\n",
    "print acc_tbl.head()"
   ]
  },
  {
   "cell_type": "code",
   "execution_count": null,
   "metadata": {
    "collapsed": false
   },
   "outputs": [],
   "source": [
    "# Show some interesting aggregate statistics\n",
    "\n",
    "no_orders = len(tbl)\n",
    "no_accts = len(acc_tbl)\n",
    "no_purchases_by_acct  = tbl['UMS_acct_no'].value_counts()\n",
    "no_accts_by_no_purchases = no_purchases_by_acct.value_counts()\n",
    "\n",
    "print \"Number of ticket purchases:                  \", #??\n",
    "print \"Number of unique UMS accounts:               \", #??\n",
    "print \"Maximum no. of purchases on one account:     \", #??\n",
    "print \"Fraction of accts with just one transaction: \", #??\n",
    "print \"Mean number of purchases per account:        \", #??"
   ]
  },
  {
   "cell_type": "code",
   "execution_count": null,
   "metadata": {
    "collapsed": false
   },
   "outputs": [],
   "source": [
    "# How many tickets do people buy?\n",
    "\n",
    "plt.hist(acc_tbl['num_purchases'][acc_tbl['num_purchases']<=50].values, bins=50)\n",
    "plt.title('Distribution of # of transactions per acct')\n",
    "plt.xlabel('Number of transactions')\n",
    "plt.ylabel('Number of accts')\n",
    "plt.show()\n",
    "\n",
    "print \"Number of people with >50 transactions:\", (acc_tbl['num_purchases']>50).sum()"
   ]
  },
  {
   "cell_type": "code",
   "execution_count": null,
   "metadata": {
    "collapsed": false
   },
   "outputs": [],
   "source": [
    "# How long have these accounts been around?\n",
    "\n",
    "acc_tbl['acct_created'].groupby(acc_tbl['acct_created'].dt.year).count().plot(kind=\"bar\")\n",
    "plt.xlabel('year')\n",
    "plt.ylabel('number of accts created')\n",
    "plt.show()"
   ]
  },
  {
   "cell_type": "code",
   "execution_count": null,
   "metadata": {
    "collapsed": false
   },
   "outputs": [],
   "source": [
    "# When do transactions occur?\n",
    "\n",
    "tbl['order_dt'].groupby(tbl['order_dt'].dt.year).count().plot(kind=\"bar\")\n",
    "plt.xlabel('year')\n",
    "plt.ylabel('number of transacions')\n",
    "plt.show()\n",
    "\n",
    "ax = tbl['order_dt'].groupby(tbl['order_dt'].dt.month).count().plot(kind=\"bar\")\n",
    "plt.xlabel('month')\n",
    "plt.ylabel('number of transactions')\n",
    "month_list = [datetime.date.strftime(datetime.date(year=1900, month=x, day = 1),'%b') for x in range(1,13)]\n",
    "ax.set_xticklabels(month_list)\n",
    "plt.show()\n",
    "\n",
    "tbl['order_dt'].groupby(tbl['order_dt'].dt.hour).count().plot(kind=\"bar\")\n",
    "plt.xlabel('hour')\n",
    "plt.ylabel('number of transactions')\n",
    "plt.show()"
   ]
  },
  {
   "cell_type": "code",
   "execution_count": null,
   "metadata": {
    "collapsed": false
   },
   "outputs": [],
   "source": [
    "# How expensive are transactions?\n",
    "\n",
    "plt.hist(tbl['tck_amt'].loc[tbl['tck_amt']<=500], bins=50)\n",
    "plt.xlabel('Transaction amount')\n",
    "plt.ylabel('Number of purchases')\n",
    "plt.show()\n",
    "\n",
    "print 'Number of transactions over $500:', (tbl['tck_amt']>500).sum()"
   ]
  },
  {
   "cell_type": "code",
   "execution_count": null,
   "metadata": {
    "collapsed": false
   },
   "outputs": [],
   "source": [
    "# How expensive is each seat?\n",
    "\n",
    "norm_tck_price = tbl['tck_amt']/tbl['num_seats']\n",
    "\n",
    "plt.hist(norm_tck_price.loc[norm_tck_price <= 150], bins=50)\n",
    "plt.xlabel('Price of seat')\n",
    "plt.ylabel('Number of purchases')\n",
    "plt.show()\n",
    "\n",
    "print 'Number of transactions over $150/seat:', (norm_tck_price>150).sum()"
   ]
  },
  {
   "cell_type": "code",
   "execution_count": null,
   "metadata": {
    "collapsed": false
   },
   "outputs": [],
   "source": [
    "# Let's look at some of the categorical variables\n",
    "\n",
    "acc_tbl.groupby('cust_type')['cust_type'].count()"
   ]
  },
  {
   "cell_type": "code",
   "execution_count": null,
   "metadata": {
    "collapsed": false
   },
   "outputs": [],
   "source": [
    "tbl.groupby('venue')['venue'].count()"
   ]
  },
  {
   "cell_type": "code",
   "execution_count": null,
   "metadata": {
    "collapsed": false
   },
   "outputs": [],
   "source": [
    "print tbl.groupby('price_type')['price_type'].count()\n",
    "\n",
    "print \"Number of price types:\", len(np.unique(tbl['price_type']))"
   ]
  },
  {
   "cell_type": "code",
   "execution_count": null,
   "metadata": {
    "collapsed": false
   },
   "outputs": [],
   "source": [
    "print tbl.groupby('price_type_group')['price_type_group'].count()"
   ]
  },
  {
   "cell_type": "code",
   "execution_count": null,
   "metadata": {
    "collapsed": false
   },
   "outputs": [],
   "source": [
    "print tbl.groupby('mode_of_sale')['mode_of_sale'].count()"
   ]
  },
  {
   "cell_type": "code",
   "execution_count": null,
   "metadata": {
    "collapsed": false
   },
   "outputs": [],
   "source": [
    "print tbl.groupby('sales_channel')['sales_channel'].count()"
   ]
  }
 ],
 "metadata": {
  "kernelspec": {
   "display_name": "Python 2",
   "language": "python",
   "name": "python2"
  },
  "language_info": {
   "codemirror_mode": {
    "name": "ipython",
    "version": 2
   },
   "file_extension": ".py",
   "mimetype": "text/x-python",
   "name": "python",
   "nbconvert_exporter": "python",
   "pygments_lexer": "ipython2",
   "version": "2.7.10"
  }
 },
 "nbformat": 4,
 "nbformat_minor": 0
}
